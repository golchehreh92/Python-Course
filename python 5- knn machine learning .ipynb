{
 "cells": [
  {
   "cell_type": "code",
   "execution_count": 96,
   "metadata": {},
   "outputs": [],
   "source": [
    "import pandas as pd\n",
    "import numpy as np \n",
    "import seaborn as sns\n",
    "import matplotlib.pyplot as plt"
   ]
  },
  {
   "cell_type": "code",
   "execution_count": 4,
   "metadata": {},
   "outputs": [],
   "source": [
    "df=pd.read_csv(r\"E:\\python\\dataset\\seesion2\\ashrae_database.csv\",index_col=\"Unnamed: 0\")"
   ]
  },
  {
   "cell_type": "code",
   "execution_count": 5,
   "metadata": {},
   "outputs": [
    {
     "data": {
      "text/html": [
       "<div>\n",
       "<style scoped>\n",
       "    .dataframe tbody tr th:only-of-type {\n",
       "        vertical-align: middle;\n",
       "    }\n",
       "\n",
       "    .dataframe tbody tr th {\n",
       "        vertical-align: top;\n",
       "    }\n",
       "\n",
       "    .dataframe thead th {\n",
       "        text-align: right;\n",
       "    }\n",
       "</style>\n",
       "<table border=\"1\" class=\"dataframe\">\n",
       "  <thead>\n",
       "    <tr style=\"text-align: right;\">\n",
       "      <th></th>\n",
       "      <th>Publication (Citation)</th>\n",
       "      <th>Year</th>\n",
       "      <th>Season</th>\n",
       "      <th>Climate</th>\n",
       "      <th>City</th>\n",
       "      <th>Country</th>\n",
       "      <th>Building type</th>\n",
       "      <th>Cooling startegy_building level</th>\n",
       "      <th>Sex</th>\n",
       "      <th>Thermal sensation</th>\n",
       "      <th>Clo</th>\n",
       "      <th>Met</th>\n",
       "      <th>Air temperature (C)</th>\n",
       "      <th>Relative humidity (%)</th>\n",
       "      <th>Air velocity (m/s)</th>\n",
       "      <th>ThermalSensation_rounded</th>\n",
       "    </tr>\n",
       "  </thead>\n",
       "  <tbody>\n",
       "    <tr>\n",
       "      <th>2233</th>\n",
       "      <td>Indraganti, Madhavi, et al. \"Adaptive model of...</td>\n",
       "      <td>2012.0</td>\n",
       "      <td>Winter</td>\n",
       "      <td>Tropical wet savanna</td>\n",
       "      <td>Chennai</td>\n",
       "      <td>India</td>\n",
       "      <td>Office</td>\n",
       "      <td>Mixed Mode</td>\n",
       "      <td>Female</td>\n",
       "      <td>-2.0</td>\n",
       "      <td>0.75</td>\n",
       "      <td>1.0</td>\n",
       "      <td>25.2</td>\n",
       "      <td>64.0</td>\n",
       "      <td>0.1</td>\n",
       "      <td>-2.0</td>\n",
       "    </tr>\n",
       "    <tr>\n",
       "      <th>2234</th>\n",
       "      <td>Indraganti, Madhavi, et al. \"Adaptive model of...</td>\n",
       "      <td>2012.0</td>\n",
       "      <td>Winter</td>\n",
       "      <td>Tropical wet savanna</td>\n",
       "      <td>Chennai</td>\n",
       "      <td>India</td>\n",
       "      <td>Office</td>\n",
       "      <td>Mixed Mode</td>\n",
       "      <td>Male</td>\n",
       "      <td>-1.0</td>\n",
       "      <td>0.64</td>\n",
       "      <td>1.0</td>\n",
       "      <td>25.2</td>\n",
       "      <td>64.0</td>\n",
       "      <td>0.1</td>\n",
       "      <td>-1.0</td>\n",
       "    </tr>\n",
       "    <tr>\n",
       "      <th>2235</th>\n",
       "      <td>Indraganti, Madhavi, et al. \"Adaptive model of...</td>\n",
       "      <td>2012.0</td>\n",
       "      <td>Winter</td>\n",
       "      <td>Tropical wet savanna</td>\n",
       "      <td>Chennai</td>\n",
       "      <td>India</td>\n",
       "      <td>Office</td>\n",
       "      <td>Mixed Mode</td>\n",
       "      <td>Male</td>\n",
       "      <td>-2.0</td>\n",
       "      <td>0.64</td>\n",
       "      <td>1.0</td>\n",
       "      <td>25.2</td>\n",
       "      <td>64.0</td>\n",
       "      <td>0.1</td>\n",
       "      <td>-2.0</td>\n",
       "    </tr>\n",
       "    <tr>\n",
       "      <th>2236</th>\n",
       "      <td>Indraganti, Madhavi, et al. \"Adaptive model of...</td>\n",
       "      <td>2012.0</td>\n",
       "      <td>Winter</td>\n",
       "      <td>Tropical wet savanna</td>\n",
       "      <td>Chennai</td>\n",
       "      <td>India</td>\n",
       "      <td>Office</td>\n",
       "      <td>Mixed Mode</td>\n",
       "      <td>Female</td>\n",
       "      <td>-2.0</td>\n",
       "      <td>0.75</td>\n",
       "      <td>1.0</td>\n",
       "      <td>25.2</td>\n",
       "      <td>64.0</td>\n",
       "      <td>0.1</td>\n",
       "      <td>-2.0</td>\n",
       "    </tr>\n",
       "    <tr>\n",
       "      <th>2237</th>\n",
       "      <td>Indraganti, Madhavi, et al. \"Adaptive model of...</td>\n",
       "      <td>2012.0</td>\n",
       "      <td>Winter</td>\n",
       "      <td>Tropical wet savanna</td>\n",
       "      <td>Chennai</td>\n",
       "      <td>India</td>\n",
       "      <td>Office</td>\n",
       "      <td>Mixed Mode</td>\n",
       "      <td>Male</td>\n",
       "      <td>0.0</td>\n",
       "      <td>0.72</td>\n",
       "      <td>1.0</td>\n",
       "      <td>25.2</td>\n",
       "      <td>64.0</td>\n",
       "      <td>0.1</td>\n",
       "      <td>0.0</td>\n",
       "    </tr>\n",
       "  </tbody>\n",
       "</table>\n",
       "</div>"
      ],
      "text/plain": [
       "                                 Publication (Citation)    Year  Season  \\\n",
       "2233  Indraganti, Madhavi, et al. \"Adaptive model of...  2012.0  Winter   \n",
       "2234  Indraganti, Madhavi, et al. \"Adaptive model of...  2012.0  Winter   \n",
       "2235  Indraganti, Madhavi, et al. \"Adaptive model of...  2012.0  Winter   \n",
       "2236  Indraganti, Madhavi, et al. \"Adaptive model of...  2012.0  Winter   \n",
       "2237  Indraganti, Madhavi, et al. \"Adaptive model of...  2012.0  Winter   \n",
       "\n",
       "                   Climate     City Country Building type  \\\n",
       "2233  Tropical wet savanna  Chennai   India        Office   \n",
       "2234  Tropical wet savanna  Chennai   India        Office   \n",
       "2235  Tropical wet savanna  Chennai   India        Office   \n",
       "2236  Tropical wet savanna  Chennai   India        Office   \n",
       "2237  Tropical wet savanna  Chennai   India        Office   \n",
       "\n",
       "     Cooling startegy_building level     Sex  Thermal sensation   Clo  Met  \\\n",
       "2233                      Mixed Mode  Female               -2.0  0.75  1.0   \n",
       "2234                      Mixed Mode    Male               -1.0  0.64  1.0   \n",
       "2235                      Mixed Mode    Male               -2.0  0.64  1.0   \n",
       "2236                      Mixed Mode  Female               -2.0  0.75  1.0   \n",
       "2237                      Mixed Mode    Male                0.0  0.72  1.0   \n",
       "\n",
       "      Air temperature (C)  Relative humidity (%)  Air velocity (m/s)  \\\n",
       "2233                 25.2                   64.0                 0.1   \n",
       "2234                 25.2                   64.0                 0.1   \n",
       "2235                 25.2                   64.0                 0.1   \n",
       "2236                 25.2                   64.0                 0.1   \n",
       "2237                 25.2                   64.0                 0.1   \n",
       "\n",
       "      ThermalSensation_rounded  \n",
       "2233                      -2.0  \n",
       "2234                      -1.0  \n",
       "2235                      -2.0  \n",
       "2236                      -2.0  \n",
       "2237                       0.0  "
      ]
     },
     "execution_count": 5,
     "metadata": {},
     "output_type": "execute_result"
    }
   ],
   "source": [
    "df.head()"
   ]
  },
  {
   "cell_type": "code",
   "execution_count": 7,
   "metadata": {},
   "outputs": [],
   "source": [
    "discomfort=[]\n",
    "for i in range(0,43448):\n",
    "    if (df[\"ThermalSensation_rounded\"].iloc[i]>0) or (df[\"ThermalSensation_rounded\"].iloc[i]<0):\n",
    "        x=1\n",
    "    else:\n",
    "        x=0\n",
    "    discomfort.append(x)\n",
    "df[\"discomfort\"]=discomfort"
   ]
  },
  {
   "cell_type": "code",
   "execution_count": 8,
   "metadata": {},
   "outputs": [
    {
     "name": "stdout",
     "output_type": "stream",
     "text": [
      "<class 'pandas.core.frame.DataFrame'>\n",
      "Int64Index: 43448 entries, 2233 to 104033\n",
      "Data columns (total 17 columns):\n",
      "Publication (Citation)             43448 non-null object\n",
      "Year                               43448 non-null float64\n",
      "Season                             43448 non-null object\n",
      "Climate                            43448 non-null object\n",
      "City                               43448 non-null object\n",
      "Country                            43448 non-null object\n",
      "Building type                      43448 non-null object\n",
      "Cooling startegy_building level    43448 non-null object\n",
      "Sex                                43448 non-null object\n",
      "Thermal sensation                  43448 non-null float64\n",
      "Clo                                43448 non-null float64\n",
      "Met                                43448 non-null float64\n",
      "Air temperature (C)                43448 non-null float64\n",
      "Relative humidity (%)              43448 non-null float64\n",
      "Air velocity (m/s)                 43448 non-null float64\n",
      "ThermalSensation_rounded           43448 non-null float64\n",
      "discomfort                         43448 non-null int64\n",
      "dtypes: float64(8), int64(1), object(8)\n",
      "memory usage: 6.0+ MB\n"
     ]
    }
   ],
   "source": [
    "df.info()"
   ]
  },
  {
   "cell_type": "code",
   "execution_count": 9,
   "metadata": {},
   "outputs": [
    {
     "data": {
      "text/plain": [
       "Index(['Publication (Citation)', 'Year', 'Season', 'Climate', 'City',\n",
       "       'Country', 'Building type', 'Cooling startegy_building level', 'Sex',\n",
       "       'Thermal sensation', 'Clo', 'Met', 'Air temperature (C)',\n",
       "       'Relative humidity (%)', 'Air velocity (m/s)',\n",
       "       'ThermalSensation_rounded', 'discomfort'],\n",
       "      dtype='object')"
      ]
     },
     "execution_count": 9,
     "metadata": {},
     "output_type": "execute_result"
    }
   ],
   "source": [
    "df.columns"
   ]
  },
  {
   "cell_type": "code",
   "execution_count": null,
   "metadata": {},
   "outputs": [],
   "source": [
    "df.drop(['Publication (Citation)', 'Year', 'Season', 'Climate', 'City','Country'],axis=1,inplace=True)"
   ]
  },
  {
   "cell_type": "code",
   "execution_count": 12,
   "metadata": {},
   "outputs": [
    {
     "data": {
      "text/plain": [
       "Index(['Building type', 'Cooling startegy_building level', 'Sex',\n",
       "       'Thermal sensation', 'Clo', 'Met', 'Air temperature (C)',\n",
       "       'Relative humidity (%)', 'Air velocity (m/s)',\n",
       "       'ThermalSensation_rounded', 'discomfort'],\n",
       "      dtype='object')"
      ]
     },
     "execution_count": 12,
     "metadata": {},
     "output_type": "execute_result"
    }
   ],
   "source": [
    "df.columns"
   ]
  },
  {
   "cell_type": "code",
   "execution_count": 15,
   "metadata": {},
   "outputs": [],
   "source": [
    "df.drop([\"ThermalSensation_rounded\"],axis=1,inplace=True)"
   ]
  },
  {
   "cell_type": "code",
   "execution_count": 18,
   "metadata": {},
   "outputs": [
    {
     "ename": "KeyError",
     "evalue": "\"['Thermalsensation'] not found in axis\"",
     "output_type": "error",
     "traceback": [
      "\u001b[1;31m---------------------------------------------------------------------------\u001b[0m",
      "\u001b[1;31mKeyError\u001b[0m                                  Traceback (most recent call last)",
      "\u001b[1;32m<ipython-input-18-36d5c7158484>\u001b[0m in \u001b[0;36m<module>\u001b[1;34m()\u001b[0m\n\u001b[1;32m----> 1\u001b[1;33m \u001b[0mdf\u001b[0m\u001b[1;33m.\u001b[0m\u001b[0mdrop\u001b[0m\u001b[1;33m(\u001b[0m\u001b[1;33m[\u001b[0m\u001b[1;34m\"Thermalsensation\"\u001b[0m\u001b[1;33m]\u001b[0m\u001b[1;33m,\u001b[0m\u001b[0maxis\u001b[0m\u001b[1;33m=\u001b[0m\u001b[1;36m1\u001b[0m\u001b[1;33m,\u001b[0m\u001b[0minplace\u001b[0m\u001b[1;33m=\u001b[0m\u001b[1;32mTrue\u001b[0m\u001b[1;33m)\u001b[0m\u001b[1;33m\u001b[0m\u001b[0m\n\u001b[0m",
      "\u001b[1;32m~\\Anaconda3\\lib\\site-packages\\pandas\\core\\frame.py\u001b[0m in \u001b[0;36mdrop\u001b[1;34m(self, labels, axis, index, columns, level, inplace, errors)\u001b[0m\n\u001b[0;32m   3695\u001b[0m                                            \u001b[0mindex\u001b[0m\u001b[1;33m=\u001b[0m\u001b[0mindex\u001b[0m\u001b[1;33m,\u001b[0m \u001b[0mcolumns\u001b[0m\u001b[1;33m=\u001b[0m\u001b[0mcolumns\u001b[0m\u001b[1;33m,\u001b[0m\u001b[1;33m\u001b[0m\u001b[0m\n\u001b[0;32m   3696\u001b[0m                                            \u001b[0mlevel\u001b[0m\u001b[1;33m=\u001b[0m\u001b[0mlevel\u001b[0m\u001b[1;33m,\u001b[0m \u001b[0minplace\u001b[0m\u001b[1;33m=\u001b[0m\u001b[0minplace\u001b[0m\u001b[1;33m,\u001b[0m\u001b[1;33m\u001b[0m\u001b[0m\n\u001b[1;32m-> 3697\u001b[1;33m                                            errors=errors)\n\u001b[0m\u001b[0;32m   3698\u001b[0m \u001b[1;33m\u001b[0m\u001b[0m\n\u001b[0;32m   3699\u001b[0m     @rewrite_axis_style_signature('mapper', [('copy', True),\n",
      "\u001b[1;32m~\\Anaconda3\\lib\\site-packages\\pandas\\core\\generic.py\u001b[0m in \u001b[0;36mdrop\u001b[1;34m(self, labels, axis, index, columns, level, inplace, errors)\u001b[0m\n\u001b[0;32m   3109\u001b[0m         \u001b[1;32mfor\u001b[0m \u001b[0maxis\u001b[0m\u001b[1;33m,\u001b[0m \u001b[0mlabels\u001b[0m \u001b[1;32min\u001b[0m \u001b[0maxes\u001b[0m\u001b[1;33m.\u001b[0m\u001b[0mitems\u001b[0m\u001b[1;33m(\u001b[0m\u001b[1;33m)\u001b[0m\u001b[1;33m:\u001b[0m\u001b[1;33m\u001b[0m\u001b[0m\n\u001b[0;32m   3110\u001b[0m             \u001b[1;32mif\u001b[0m \u001b[0mlabels\u001b[0m \u001b[1;32mis\u001b[0m \u001b[1;32mnot\u001b[0m \u001b[1;32mNone\u001b[0m\u001b[1;33m:\u001b[0m\u001b[1;33m\u001b[0m\u001b[0m\n\u001b[1;32m-> 3111\u001b[1;33m                 \u001b[0mobj\u001b[0m \u001b[1;33m=\u001b[0m \u001b[0mobj\u001b[0m\u001b[1;33m.\u001b[0m\u001b[0m_drop_axis\u001b[0m\u001b[1;33m(\u001b[0m\u001b[0mlabels\u001b[0m\u001b[1;33m,\u001b[0m \u001b[0maxis\u001b[0m\u001b[1;33m,\u001b[0m \u001b[0mlevel\u001b[0m\u001b[1;33m=\u001b[0m\u001b[0mlevel\u001b[0m\u001b[1;33m,\u001b[0m \u001b[0merrors\u001b[0m\u001b[1;33m=\u001b[0m\u001b[0merrors\u001b[0m\u001b[1;33m)\u001b[0m\u001b[1;33m\u001b[0m\u001b[0m\n\u001b[0m\u001b[0;32m   3112\u001b[0m \u001b[1;33m\u001b[0m\u001b[0m\n\u001b[0;32m   3113\u001b[0m         \u001b[1;32mif\u001b[0m \u001b[0minplace\u001b[0m\u001b[1;33m:\u001b[0m\u001b[1;33m\u001b[0m\u001b[0m\n",
      "\u001b[1;32m~\\Anaconda3\\lib\\site-packages\\pandas\\core\\generic.py\u001b[0m in \u001b[0;36m_drop_axis\u001b[1;34m(self, labels, axis, level, errors)\u001b[0m\n\u001b[0;32m   3141\u001b[0m                 \u001b[0mnew_axis\u001b[0m \u001b[1;33m=\u001b[0m \u001b[0maxis\u001b[0m\u001b[1;33m.\u001b[0m\u001b[0mdrop\u001b[0m\u001b[1;33m(\u001b[0m\u001b[0mlabels\u001b[0m\u001b[1;33m,\u001b[0m \u001b[0mlevel\u001b[0m\u001b[1;33m=\u001b[0m\u001b[0mlevel\u001b[0m\u001b[1;33m,\u001b[0m \u001b[0merrors\u001b[0m\u001b[1;33m=\u001b[0m\u001b[0merrors\u001b[0m\u001b[1;33m)\u001b[0m\u001b[1;33m\u001b[0m\u001b[0m\n\u001b[0;32m   3142\u001b[0m             \u001b[1;32melse\u001b[0m\u001b[1;33m:\u001b[0m\u001b[1;33m\u001b[0m\u001b[0m\n\u001b[1;32m-> 3143\u001b[1;33m                 \u001b[0mnew_axis\u001b[0m \u001b[1;33m=\u001b[0m \u001b[0maxis\u001b[0m\u001b[1;33m.\u001b[0m\u001b[0mdrop\u001b[0m\u001b[1;33m(\u001b[0m\u001b[0mlabels\u001b[0m\u001b[1;33m,\u001b[0m \u001b[0merrors\u001b[0m\u001b[1;33m=\u001b[0m\u001b[0merrors\u001b[0m\u001b[1;33m)\u001b[0m\u001b[1;33m\u001b[0m\u001b[0m\n\u001b[0m\u001b[0;32m   3144\u001b[0m             \u001b[0mresult\u001b[0m \u001b[1;33m=\u001b[0m \u001b[0mself\u001b[0m\u001b[1;33m.\u001b[0m\u001b[0mreindex\u001b[0m\u001b[1;33m(\u001b[0m\u001b[1;33m**\u001b[0m\u001b[1;33m{\u001b[0m\u001b[0maxis_name\u001b[0m\u001b[1;33m:\u001b[0m \u001b[0mnew_axis\u001b[0m\u001b[1;33m}\u001b[0m\u001b[1;33m)\u001b[0m\u001b[1;33m\u001b[0m\u001b[0m\n\u001b[0;32m   3145\u001b[0m \u001b[1;33m\u001b[0m\u001b[0m\n",
      "\u001b[1;32m~\\Anaconda3\\lib\\site-packages\\pandas\\core\\indexes\\base.py\u001b[0m in \u001b[0;36mdrop\u001b[1;34m(self, labels, errors)\u001b[0m\n\u001b[0;32m   4402\u001b[0m             \u001b[1;32mif\u001b[0m \u001b[0merrors\u001b[0m \u001b[1;33m!=\u001b[0m \u001b[1;34m'ignore'\u001b[0m\u001b[1;33m:\u001b[0m\u001b[1;33m\u001b[0m\u001b[0m\n\u001b[0;32m   4403\u001b[0m                 raise KeyError(\n\u001b[1;32m-> 4404\u001b[1;33m                     '{} not found in axis'.format(labels[mask]))\n\u001b[0m\u001b[0;32m   4405\u001b[0m             \u001b[0mindexer\u001b[0m \u001b[1;33m=\u001b[0m \u001b[0mindexer\u001b[0m\u001b[1;33m[\u001b[0m\u001b[1;33m~\u001b[0m\u001b[0mmask\u001b[0m\u001b[1;33m]\u001b[0m\u001b[1;33m\u001b[0m\u001b[0m\n\u001b[0;32m   4406\u001b[0m         \u001b[1;32mreturn\u001b[0m \u001b[0mself\u001b[0m\u001b[1;33m.\u001b[0m\u001b[0mdelete\u001b[0m\u001b[1;33m(\u001b[0m\u001b[0mindexer\u001b[0m\u001b[1;33m)\u001b[0m\u001b[1;33m\u001b[0m\u001b[0m\n",
      "\u001b[1;31mKeyError\u001b[0m: \"['Thermalsensation'] not found in axis\""
     ]
    }
   ],
   "source": [
    "df.drop([\"Thermalsensation\"],axis=1,inplace=True)"
   ]
  },
  {
   "cell_type": "code",
   "execution_count": 16,
   "metadata": {},
   "outputs": [
    {
     "data": {
      "text/html": [
       "<div>\n",
       "<style scoped>\n",
       "    .dataframe tbody tr th:only-of-type {\n",
       "        vertical-align: middle;\n",
       "    }\n",
       "\n",
       "    .dataframe tbody tr th {\n",
       "        vertical-align: top;\n",
       "    }\n",
       "\n",
       "    .dataframe thead th {\n",
       "        text-align: right;\n",
       "    }\n",
       "</style>\n",
       "<table border=\"1\" class=\"dataframe\">\n",
       "  <thead>\n",
       "    <tr style=\"text-align: right;\">\n",
       "      <th></th>\n",
       "      <th>Building type</th>\n",
       "      <th>Cooling startegy_building level</th>\n",
       "      <th>Sex</th>\n",
       "      <th>Thermal sensation</th>\n",
       "      <th>Clo</th>\n",
       "      <th>Met</th>\n",
       "      <th>Air temperature (C)</th>\n",
       "      <th>Relative humidity (%)</th>\n",
       "      <th>Air velocity (m/s)</th>\n",
       "      <th>discomfort</th>\n",
       "    </tr>\n",
       "  </thead>\n",
       "  <tbody>\n",
       "    <tr>\n",
       "      <th>2233</th>\n",
       "      <td>Office</td>\n",
       "      <td>Mixed Mode</td>\n",
       "      <td>Female</td>\n",
       "      <td>-2.0</td>\n",
       "      <td>0.75</td>\n",
       "      <td>1.0</td>\n",
       "      <td>25.2</td>\n",
       "      <td>64.0</td>\n",
       "      <td>0.1</td>\n",
       "      <td>1</td>\n",
       "    </tr>\n",
       "    <tr>\n",
       "      <th>2234</th>\n",
       "      <td>Office</td>\n",
       "      <td>Mixed Mode</td>\n",
       "      <td>Male</td>\n",
       "      <td>-1.0</td>\n",
       "      <td>0.64</td>\n",
       "      <td>1.0</td>\n",
       "      <td>25.2</td>\n",
       "      <td>64.0</td>\n",
       "      <td>0.1</td>\n",
       "      <td>1</td>\n",
       "    </tr>\n",
       "    <tr>\n",
       "      <th>2235</th>\n",
       "      <td>Office</td>\n",
       "      <td>Mixed Mode</td>\n",
       "      <td>Male</td>\n",
       "      <td>-2.0</td>\n",
       "      <td>0.64</td>\n",
       "      <td>1.0</td>\n",
       "      <td>25.2</td>\n",
       "      <td>64.0</td>\n",
       "      <td>0.1</td>\n",
       "      <td>1</td>\n",
       "    </tr>\n",
       "    <tr>\n",
       "      <th>2236</th>\n",
       "      <td>Office</td>\n",
       "      <td>Mixed Mode</td>\n",
       "      <td>Female</td>\n",
       "      <td>-2.0</td>\n",
       "      <td>0.75</td>\n",
       "      <td>1.0</td>\n",
       "      <td>25.2</td>\n",
       "      <td>64.0</td>\n",
       "      <td>0.1</td>\n",
       "      <td>1</td>\n",
       "    </tr>\n",
       "    <tr>\n",
       "      <th>2237</th>\n",
       "      <td>Office</td>\n",
       "      <td>Mixed Mode</td>\n",
       "      <td>Male</td>\n",
       "      <td>0.0</td>\n",
       "      <td>0.72</td>\n",
       "      <td>1.0</td>\n",
       "      <td>25.2</td>\n",
       "      <td>64.0</td>\n",
       "      <td>0.1</td>\n",
       "      <td>0</td>\n",
       "    </tr>\n",
       "  </tbody>\n",
       "</table>\n",
       "</div>"
      ],
      "text/plain": [
       "     Building type Cooling startegy_building level     Sex  Thermal sensation  \\\n",
       "2233        Office                      Mixed Mode  Female               -2.0   \n",
       "2234        Office                      Mixed Mode    Male               -1.0   \n",
       "2235        Office                      Mixed Mode    Male               -2.0   \n",
       "2236        Office                      Mixed Mode  Female               -2.0   \n",
       "2237        Office                      Mixed Mode    Male                0.0   \n",
       "\n",
       "       Clo  Met  Air temperature (C)  Relative humidity (%)  \\\n",
       "2233  0.75  1.0                 25.2                   64.0   \n",
       "2234  0.64  1.0                 25.2                   64.0   \n",
       "2235  0.64  1.0                 25.2                   64.0   \n",
       "2236  0.75  1.0                 25.2                   64.0   \n",
       "2237  0.72  1.0                 25.2                   64.0   \n",
       "\n",
       "      Air velocity (m/s)  discomfort  \n",
       "2233                 0.1           1  \n",
       "2234                 0.1           1  \n",
       "2235                 0.1           1  \n",
       "2236                 0.1           1  \n",
       "2237                 0.1           0  "
      ]
     },
     "execution_count": 16,
     "metadata": {},
     "output_type": "execute_result"
    }
   ],
   "source": [
    "df.head()"
   ]
  },
  {
   "cell_type": "code",
   "execution_count": 22,
   "metadata": {},
   "outputs": [],
   "source": [
    "df=pd.get_dummies(df)"
   ]
  },
  {
   "cell_type": "code",
   "execution_count": 23,
   "metadata": {},
   "outputs": [
    {
     "data": {
      "text/plain": [
       "Index(['Thermal sensation', 'Clo', 'Met', 'Air temperature (C)',\n",
       "       'Relative humidity (%)', 'Air velocity (m/s)', 'discomfort',\n",
       "       'Building type_Classroom', 'Building type_Multifamily housing',\n",
       "       'Building type_Office', 'Building type_Others',\n",
       "       'Building type_Senior center',\n",
       "       'Cooling startegy_building level_Air Conditioned',\n",
       "       'Cooling startegy_building level_Mechanically Ventilated',\n",
       "       'Cooling startegy_building level_Mixed Mode',\n",
       "       'Cooling startegy_building level_Naturally Ventilated', 'Sex_Female',\n",
       "       'Sex_Male'],\n",
       "      dtype='object')"
      ]
     },
     "execution_count": 23,
     "metadata": {},
     "output_type": "execute_result"
    }
   ],
   "source": [
    "df.columns"
   ]
  },
  {
   "cell_type": "code",
   "execution_count": 24,
   "metadata": {},
   "outputs": [
    {
     "data": {
      "text/html": [
       "<div>\n",
       "<style scoped>\n",
       "    .dataframe tbody tr th:only-of-type {\n",
       "        vertical-align: middle;\n",
       "    }\n",
       "\n",
       "    .dataframe tbody tr th {\n",
       "        vertical-align: top;\n",
       "    }\n",
       "\n",
       "    .dataframe thead th {\n",
       "        text-align: right;\n",
       "    }\n",
       "</style>\n",
       "<table border=\"1\" class=\"dataframe\">\n",
       "  <thead>\n",
       "    <tr style=\"text-align: right;\">\n",
       "      <th></th>\n",
       "      <th>Thermal sensation</th>\n",
       "      <th>Clo</th>\n",
       "      <th>Met</th>\n",
       "      <th>Air temperature (C)</th>\n",
       "      <th>Relative humidity (%)</th>\n",
       "      <th>Air velocity (m/s)</th>\n",
       "      <th>discomfort</th>\n",
       "      <th>Building type_Classroom</th>\n",
       "      <th>Building type_Multifamily housing</th>\n",
       "      <th>Building type_Office</th>\n",
       "      <th>Building type_Others</th>\n",
       "      <th>Building type_Senior center</th>\n",
       "      <th>Cooling startegy_building level_Air Conditioned</th>\n",
       "      <th>Cooling startegy_building level_Mechanically Ventilated</th>\n",
       "      <th>Cooling startegy_building level_Mixed Mode</th>\n",
       "      <th>Cooling startegy_building level_Naturally Ventilated</th>\n",
       "      <th>Sex_Female</th>\n",
       "      <th>Sex_Male</th>\n",
       "    </tr>\n",
       "  </thead>\n",
       "  <tbody>\n",
       "    <tr>\n",
       "      <th>2233</th>\n",
       "      <td>-2.0</td>\n",
       "      <td>0.75</td>\n",
       "      <td>1.0</td>\n",
       "      <td>25.2</td>\n",
       "      <td>64.0</td>\n",
       "      <td>0.1</td>\n",
       "      <td>1</td>\n",
       "      <td>0</td>\n",
       "      <td>0</td>\n",
       "      <td>1</td>\n",
       "      <td>0</td>\n",
       "      <td>0</td>\n",
       "      <td>0</td>\n",
       "      <td>0</td>\n",
       "      <td>1</td>\n",
       "      <td>0</td>\n",
       "      <td>1</td>\n",
       "      <td>0</td>\n",
       "    </tr>\n",
       "    <tr>\n",
       "      <th>2234</th>\n",
       "      <td>-1.0</td>\n",
       "      <td>0.64</td>\n",
       "      <td>1.0</td>\n",
       "      <td>25.2</td>\n",
       "      <td>64.0</td>\n",
       "      <td>0.1</td>\n",
       "      <td>1</td>\n",
       "      <td>0</td>\n",
       "      <td>0</td>\n",
       "      <td>1</td>\n",
       "      <td>0</td>\n",
       "      <td>0</td>\n",
       "      <td>0</td>\n",
       "      <td>0</td>\n",
       "      <td>1</td>\n",
       "      <td>0</td>\n",
       "      <td>0</td>\n",
       "      <td>1</td>\n",
       "    </tr>\n",
       "    <tr>\n",
       "      <th>2235</th>\n",
       "      <td>-2.0</td>\n",
       "      <td>0.64</td>\n",
       "      <td>1.0</td>\n",
       "      <td>25.2</td>\n",
       "      <td>64.0</td>\n",
       "      <td>0.1</td>\n",
       "      <td>1</td>\n",
       "      <td>0</td>\n",
       "      <td>0</td>\n",
       "      <td>1</td>\n",
       "      <td>0</td>\n",
       "      <td>0</td>\n",
       "      <td>0</td>\n",
       "      <td>0</td>\n",
       "      <td>1</td>\n",
       "      <td>0</td>\n",
       "      <td>0</td>\n",
       "      <td>1</td>\n",
       "    </tr>\n",
       "    <tr>\n",
       "      <th>2236</th>\n",
       "      <td>-2.0</td>\n",
       "      <td>0.75</td>\n",
       "      <td>1.0</td>\n",
       "      <td>25.2</td>\n",
       "      <td>64.0</td>\n",
       "      <td>0.1</td>\n",
       "      <td>1</td>\n",
       "      <td>0</td>\n",
       "      <td>0</td>\n",
       "      <td>1</td>\n",
       "      <td>0</td>\n",
       "      <td>0</td>\n",
       "      <td>0</td>\n",
       "      <td>0</td>\n",
       "      <td>1</td>\n",
       "      <td>0</td>\n",
       "      <td>1</td>\n",
       "      <td>0</td>\n",
       "    </tr>\n",
       "    <tr>\n",
       "      <th>2237</th>\n",
       "      <td>0.0</td>\n",
       "      <td>0.72</td>\n",
       "      <td>1.0</td>\n",
       "      <td>25.2</td>\n",
       "      <td>64.0</td>\n",
       "      <td>0.1</td>\n",
       "      <td>0</td>\n",
       "      <td>0</td>\n",
       "      <td>0</td>\n",
       "      <td>1</td>\n",
       "      <td>0</td>\n",
       "      <td>0</td>\n",
       "      <td>0</td>\n",
       "      <td>0</td>\n",
       "      <td>1</td>\n",
       "      <td>0</td>\n",
       "      <td>0</td>\n",
       "      <td>1</td>\n",
       "    </tr>\n",
       "  </tbody>\n",
       "</table>\n",
       "</div>"
      ],
      "text/plain": [
       "      Thermal sensation   Clo  Met  Air temperature (C)  \\\n",
       "2233               -2.0  0.75  1.0                 25.2   \n",
       "2234               -1.0  0.64  1.0                 25.2   \n",
       "2235               -2.0  0.64  1.0                 25.2   \n",
       "2236               -2.0  0.75  1.0                 25.2   \n",
       "2237                0.0  0.72  1.0                 25.2   \n",
       "\n",
       "      Relative humidity (%)  Air velocity (m/s)  discomfort  \\\n",
       "2233                   64.0                 0.1           1   \n",
       "2234                   64.0                 0.1           1   \n",
       "2235                   64.0                 0.1           1   \n",
       "2236                   64.0                 0.1           1   \n",
       "2237                   64.0                 0.1           0   \n",
       "\n",
       "      Building type_Classroom  Building type_Multifamily housing  \\\n",
       "2233                        0                                  0   \n",
       "2234                        0                                  0   \n",
       "2235                        0                                  0   \n",
       "2236                        0                                  0   \n",
       "2237                        0                                  0   \n",
       "\n",
       "      Building type_Office  Building type_Others  Building type_Senior center  \\\n",
       "2233                     1                     0                            0   \n",
       "2234                     1                     0                            0   \n",
       "2235                     1                     0                            0   \n",
       "2236                     1                     0                            0   \n",
       "2237                     1                     0                            0   \n",
       "\n",
       "      Cooling startegy_building level_Air Conditioned  \\\n",
       "2233                                                0   \n",
       "2234                                                0   \n",
       "2235                                                0   \n",
       "2236                                                0   \n",
       "2237                                                0   \n",
       "\n",
       "      Cooling startegy_building level_Mechanically Ventilated  \\\n",
       "2233                                                  0         \n",
       "2234                                                  0         \n",
       "2235                                                  0         \n",
       "2236                                                  0         \n",
       "2237                                                  0         \n",
       "\n",
       "      Cooling startegy_building level_Mixed Mode  \\\n",
       "2233                                           1   \n",
       "2234                                           1   \n",
       "2235                                           1   \n",
       "2236                                           1   \n",
       "2237                                           1   \n",
       "\n",
       "      Cooling startegy_building level_Naturally Ventilated  Sex_Female  \\\n",
       "2233                                                  0              1   \n",
       "2234                                                  0              0   \n",
       "2235                                                  0              0   \n",
       "2236                                                  0              1   \n",
       "2237                                                  0              0   \n",
       "\n",
       "      Sex_Male  \n",
       "2233         0  \n",
       "2234         1  \n",
       "2235         1  \n",
       "2236         0  \n",
       "2237         1  "
      ]
     },
     "execution_count": 24,
     "metadata": {},
     "output_type": "execute_result"
    }
   ],
   "source": [
    "df.head()"
   ]
  },
  {
   "cell_type": "code",
   "execution_count": 41,
   "metadata": {},
   "outputs": [],
   "source": [
    "X=df[['Thermal sensation', 'Clo', 'Met', 'Air temperature (C)',\n",
    "       'Relative humidity (%)', 'Air velocity (m/s)', \n",
    "       'Building type_Classroom', 'Building type_Multifamily housing',\n",
    "       'Building type_Office', 'Building type_Others',\n",
    "       'Building type_Senior center',\n",
    "       'Cooling startegy_building level_Air Conditioned',\n",
    "       'Cooling startegy_building level_Mechanically Ventilated',\n",
    "       'Cooling startegy_building level_Mixed Mode',\n",
    "       'Cooling startegy_building level_Naturally Ventilated', 'Sex_Female',\n",
    "       'Sex_Male']]\n",
    "y=df[\"discomfort\"]"
   ]
  },
  {
   "cell_type": "markdown",
   "metadata": {},
   "source": [
    "# KNN"
   ]
  },
  {
   "cell_type": "code",
   "execution_count": 26,
   "metadata": {},
   "outputs": [],
   "source": [
    "from sklearn.preprocessing import StandardScaler"
   ]
  },
  {
   "cell_type": "code",
   "execution_count": 45,
   "metadata": {},
   "outputs": [],
   "source": [
    "scaler=StandardScaler()   ## ma yeseri range hamun ba ham nmikhunan"
   ]
  },
  {
   "cell_type": "code",
   "execution_count": 46,
   "metadata": {},
   "outputs": [
    {
     "data": {
      "text/plain": [
       "StandardScaler(copy=True, with_mean=True, with_std=True)"
      ]
     },
     "execution_count": 46,
     "metadata": {},
     "output_type": "execute_result"
    }
   ],
   "source": [
    "scaler.fit(df.drop(\"discomfort\",axis=1))"
   ]
  },
  {
   "cell_type": "code",
   "execution_count": 47,
   "metadata": {},
   "outputs": [],
   "source": [
    "scaled_features=scaler.transform(df.drop(\"discomfort\",axis=1))"
   ]
  },
  {
   "cell_type": "code",
   "execution_count": 48,
   "metadata": {},
   "outputs": [
    {
     "data": {
      "text/plain": [
       "array([[-1.8910016 ,  0.45290598, -0.70708711, ..., -0.65169889,\n",
       "         1.09942424, -1.09942424],\n",
       "       [-1.00213899,  0.02319187, -0.70708711, ..., -0.65169889,\n",
       "        -0.90956699,  0.90956699],\n",
       "       [-1.8910016 ,  0.02319187, -0.70708711, ..., -0.65169889,\n",
       "        -0.90956699,  0.90956699],\n",
       "       ...,\n",
       "       [ 0.06449614, -0.40652224,  0.28615198, ..., -0.65169889,\n",
       "         1.09942424, -1.09942424],\n",
       "       [ 0.77558623, -0.25026256,  0.36561111, ..., -0.65169889,\n",
       "         1.09942424, -1.09942424],\n",
       "       [ 0.77558623, -0.75810651,  0.76290675, ..., -0.65169889,\n",
       "         1.09942424, -1.09942424]])"
      ]
     },
     "execution_count": 48,
     "metadata": {},
     "output_type": "execute_result"
    }
   ],
   "source": [
    "scaled_features"
   ]
  },
  {
   "cell_type": "code",
   "execution_count": 73,
   "metadata": {},
   "outputs": [
    {
     "data": {
      "text/plain": [
       "Index(['Thermal sensation', 'Clo', 'Met', 'Air temperature (C)',\n",
       "       'Relative humidity (%)', 'Air velocity (m/s)',\n",
       "       'Building type_Classroom', 'Building type_Multifamily housing',\n",
       "       'Building type_Office', 'Building type_Others',\n",
       "       'Building type_Senior center',\n",
       "       'Cooling startegy_building level_Air Conditioned',\n",
       "       'Cooling startegy_building level_Mechanically Ventilated',\n",
       "       'Cooling startegy_building level_Mixed Mode',\n",
       "       'Cooling startegy_building level_Naturally Ventilated', 'Sex_Female',\n",
       "       'Sex_Male'],\n",
       "      dtype='object')"
      ]
     },
     "execution_count": 73,
     "metadata": {},
     "output_type": "execute_result"
    }
   ],
   "source": [
    "cols=df.drop(\"discomfort\",axis=1).columns\n",
    "cols"
   ]
  },
  {
   "cell_type": "code",
   "execution_count": 56,
   "metadata": {},
   "outputs": [],
   "source": [
    "df_features=pd.DataFrame(scaled_features,columns=['Thermal sensation', 'Clo', 'Met', 'Air temperature (C)',\n",
    "       'Relative humidity (%)', 'Air velocity (m/s)',\n",
    "       'Building type_Classroom', 'Building type_Multifamily housing',\n",
    "       'Building type_Office', 'Building type_Others',\n",
    "       'Building type_Senior center',\n",
    "       'Cooling startegy_building level_Air Conditioned',\n",
    "       'Cooling startegy_building level_Mechanically Ventilated',\n",
    "       'Cooling startegy_building level_Mixed Mode',\n",
    "       'Cooling startegy_building level_Naturally Ventilated', 'Sex_Female',\n",
    "       'Sex_Male'])"
   ]
  },
  {
   "cell_type": "code",
   "execution_count": 57,
   "metadata": {},
   "outputs": [
    {
     "data": {
      "text/html": [
       "<div>\n",
       "<style scoped>\n",
       "    .dataframe tbody tr th:only-of-type {\n",
       "        vertical-align: middle;\n",
       "    }\n",
       "\n",
       "    .dataframe tbody tr th {\n",
       "        vertical-align: top;\n",
       "    }\n",
       "\n",
       "    .dataframe thead th {\n",
       "        text-align: right;\n",
       "    }\n",
       "</style>\n",
       "<table border=\"1\" class=\"dataframe\">\n",
       "  <thead>\n",
       "    <tr style=\"text-align: right;\">\n",
       "      <th></th>\n",
       "      <th>Thermal sensation</th>\n",
       "      <th>Clo</th>\n",
       "      <th>Met</th>\n",
       "      <th>Air temperature (C)</th>\n",
       "      <th>Relative humidity (%)</th>\n",
       "      <th>Air velocity (m/s)</th>\n",
       "      <th>Building type_Classroom</th>\n",
       "      <th>Building type_Multifamily housing</th>\n",
       "      <th>Building type_Office</th>\n",
       "      <th>Building type_Others</th>\n",
       "      <th>Building type_Senior center</th>\n",
       "      <th>Cooling startegy_building level_Air Conditioned</th>\n",
       "      <th>Cooling startegy_building level_Mechanically Ventilated</th>\n",
       "      <th>Cooling startegy_building level_Mixed Mode</th>\n",
       "      <th>Cooling startegy_building level_Naturally Ventilated</th>\n",
       "      <th>Sex_Female</th>\n",
       "      <th>Sex_Male</th>\n",
       "    </tr>\n",
       "  </thead>\n",
       "  <tbody>\n",
       "    <tr>\n",
       "      <th>0</th>\n",
       "      <td>-1.891002</td>\n",
       "      <td>0.452906</td>\n",
       "      <td>-0.707087</td>\n",
       "      <td>-0.00465</td>\n",
       "      <td>0.846135</td>\n",
       "      <td>-0.323979</td>\n",
       "      <td>-0.401902</td>\n",
       "      <td>-0.240144</td>\n",
       "      <td>0.672665</td>\n",
       "      <td>-0.344735</td>\n",
       "      <td>-0.108876</td>\n",
       "      <td>-0.691357</td>\n",
       "      <td>-0.061742</td>\n",
       "      <td>1.291819</td>\n",
       "      <td>-0.651699</td>\n",
       "      <td>1.099424</td>\n",
       "      <td>-1.099424</td>\n",
       "    </tr>\n",
       "    <tr>\n",
       "      <th>1</th>\n",
       "      <td>-1.002139</td>\n",
       "      <td>0.023192</td>\n",
       "      <td>-0.707087</td>\n",
       "      <td>-0.00465</td>\n",
       "      <td>0.846135</td>\n",
       "      <td>-0.323979</td>\n",
       "      <td>-0.401902</td>\n",
       "      <td>-0.240144</td>\n",
       "      <td>0.672665</td>\n",
       "      <td>-0.344735</td>\n",
       "      <td>-0.108876</td>\n",
       "      <td>-0.691357</td>\n",
       "      <td>-0.061742</td>\n",
       "      <td>1.291819</td>\n",
       "      <td>-0.651699</td>\n",
       "      <td>-0.909567</td>\n",
       "      <td>0.909567</td>\n",
       "    </tr>\n",
       "    <tr>\n",
       "      <th>2</th>\n",
       "      <td>-1.891002</td>\n",
       "      <td>0.023192</td>\n",
       "      <td>-0.707087</td>\n",
       "      <td>-0.00465</td>\n",
       "      <td>0.846135</td>\n",
       "      <td>-0.323979</td>\n",
       "      <td>-0.401902</td>\n",
       "      <td>-0.240144</td>\n",
       "      <td>0.672665</td>\n",
       "      <td>-0.344735</td>\n",
       "      <td>-0.108876</td>\n",
       "      <td>-0.691357</td>\n",
       "      <td>-0.061742</td>\n",
       "      <td>1.291819</td>\n",
       "      <td>-0.651699</td>\n",
       "      <td>-0.909567</td>\n",
       "      <td>0.909567</td>\n",
       "    </tr>\n",
       "    <tr>\n",
       "      <th>3</th>\n",
       "      <td>-1.891002</td>\n",
       "      <td>0.452906</td>\n",
       "      <td>-0.707087</td>\n",
       "      <td>-0.00465</td>\n",
       "      <td>0.846135</td>\n",
       "      <td>-0.323979</td>\n",
       "      <td>-0.401902</td>\n",
       "      <td>-0.240144</td>\n",
       "      <td>0.672665</td>\n",
       "      <td>-0.344735</td>\n",
       "      <td>-0.108876</td>\n",
       "      <td>-0.691357</td>\n",
       "      <td>-0.061742</td>\n",
       "      <td>1.291819</td>\n",
       "      <td>-0.651699</td>\n",
       "      <td>1.099424</td>\n",
       "      <td>-1.099424</td>\n",
       "    </tr>\n",
       "    <tr>\n",
       "      <th>4</th>\n",
       "      <td>-0.113276</td>\n",
       "      <td>0.335711</td>\n",
       "      <td>-0.707087</td>\n",
       "      <td>-0.00465</td>\n",
       "      <td>0.846135</td>\n",
       "      <td>-0.323979</td>\n",
       "      <td>-0.401902</td>\n",
       "      <td>-0.240144</td>\n",
       "      <td>0.672665</td>\n",
       "      <td>-0.344735</td>\n",
       "      <td>-0.108876</td>\n",
       "      <td>-0.691357</td>\n",
       "      <td>-0.061742</td>\n",
       "      <td>1.291819</td>\n",
       "      <td>-0.651699</td>\n",
       "      <td>-0.909567</td>\n",
       "      <td>0.909567</td>\n",
       "    </tr>\n",
       "  </tbody>\n",
       "</table>\n",
       "</div>"
      ],
      "text/plain": [
       "   Thermal sensation       Clo       Met  Air temperature (C)  \\\n",
       "0          -1.891002  0.452906 -0.707087             -0.00465   \n",
       "1          -1.002139  0.023192 -0.707087             -0.00465   \n",
       "2          -1.891002  0.023192 -0.707087             -0.00465   \n",
       "3          -1.891002  0.452906 -0.707087             -0.00465   \n",
       "4          -0.113276  0.335711 -0.707087             -0.00465   \n",
       "\n",
       "   Relative humidity (%)  Air velocity (m/s)  Building type_Classroom  \\\n",
       "0               0.846135           -0.323979                -0.401902   \n",
       "1               0.846135           -0.323979                -0.401902   \n",
       "2               0.846135           -0.323979                -0.401902   \n",
       "3               0.846135           -0.323979                -0.401902   \n",
       "4               0.846135           -0.323979                -0.401902   \n",
       "\n",
       "   Building type_Multifamily housing  Building type_Office  \\\n",
       "0                          -0.240144              0.672665   \n",
       "1                          -0.240144              0.672665   \n",
       "2                          -0.240144              0.672665   \n",
       "3                          -0.240144              0.672665   \n",
       "4                          -0.240144              0.672665   \n",
       "\n",
       "   Building type_Others  Building type_Senior center  \\\n",
       "0             -0.344735                    -0.108876   \n",
       "1             -0.344735                    -0.108876   \n",
       "2             -0.344735                    -0.108876   \n",
       "3             -0.344735                    -0.108876   \n",
       "4             -0.344735                    -0.108876   \n",
       "\n",
       "   Cooling startegy_building level_Air Conditioned  \\\n",
       "0                                        -0.691357   \n",
       "1                                        -0.691357   \n",
       "2                                        -0.691357   \n",
       "3                                        -0.691357   \n",
       "4                                        -0.691357   \n",
       "\n",
       "   Cooling startegy_building level_Mechanically Ventilated  \\\n",
       "0                                          -0.061742         \n",
       "1                                          -0.061742         \n",
       "2                                          -0.061742         \n",
       "3                                          -0.061742         \n",
       "4                                          -0.061742         \n",
       "\n",
       "   Cooling startegy_building level_Mixed Mode  \\\n",
       "0                                    1.291819   \n",
       "1                                    1.291819   \n",
       "2                                    1.291819   \n",
       "3                                    1.291819   \n",
       "4                                    1.291819   \n",
       "\n",
       "   Cooling startegy_building level_Naturally Ventilated  Sex_Female  Sex_Male  \n",
       "0                                          -0.651699       1.099424 -1.099424  \n",
       "1                                          -0.651699      -0.909567  0.909567  \n",
       "2                                          -0.651699      -0.909567  0.909567  \n",
       "3                                          -0.651699       1.099424 -1.099424  \n",
       "4                                          -0.651699      -0.909567  0.909567  "
      ]
     },
     "execution_count": 57,
     "metadata": {},
     "output_type": "execute_result"
    }
   ],
   "source": [
    "df_features.head()  ##alan adad manteqi an dg kheili tafavot fahesh nadaran ba ham "
   ]
  },
  {
   "cell_type": "code",
   "execution_count": 58,
   "metadata": {},
   "outputs": [],
   "source": [
    "from sklearn.model_selection import train_test_split"
   ]
  },
  {
   "cell_type": "code",
   "execution_count": 61,
   "metadata": {},
   "outputs": [],
   "source": [
    "X=df_features"
   ]
  },
  {
   "cell_type": "code",
   "execution_count": 62,
   "metadata": {},
   "outputs": [],
   "source": [
    "y=df[\"discomfort\"]"
   ]
  },
  {
   "cell_type": "code",
   "execution_count": 64,
   "metadata": {},
   "outputs": [],
   "source": [
    "X_train, X_test, y_train, y_test = train_test_split( X, y, test_size=0.4, random_state=101)"
   ]
  },
  {
   "cell_type": "code",
   "execution_count": 65,
   "metadata": {},
   "outputs": [],
   "source": [
    "from sklearn.neighbors import KNeighborsClassifier"
   ]
  },
  {
   "cell_type": "code",
   "execution_count": 79,
   "metadata": {},
   "outputs": [],
   "source": [
    "koon= KNeighborsClassifier()   #default sh hamun 5 e"
   ]
  },
  {
   "cell_type": "code",
   "execution_count": 80,
   "metadata": {},
   "outputs": [
    {
     "data": {
      "text/plain": [
       "KNeighborsClassifier(algorithm='auto', leaf_size=30, metric='minkowski',\n",
       "           metric_params=None, n_jobs=1, n_neighbors=5, p=2,\n",
       "           weights='uniform')"
      ]
     },
     "execution_count": 80,
     "metadata": {},
     "output_type": "execute_result"
    }
   ],
   "source": [
    "koon.fit(X_train,y_train)"
   ]
  },
  {
   "cell_type": "code",
   "execution_count": 84,
   "metadata": {},
   "outputs": [
    {
     "data": {
      "text/plain": [
       "array([0, 0, 1, ..., 0, 1, 1], dtype=int64)"
      ]
     },
     "execution_count": 84,
     "metadata": {},
     "output_type": "execute_result"
    }
   ],
   "source": [
    "predictions=koon.predict(X_test)\n",
    "predictions"
   ]
  },
  {
   "cell_type": "code",
   "execution_count": 86,
   "metadata": {},
   "outputs": [],
   "source": [
    "from sklearn.metrics import confusion_matrix,classification_report"
   ]
  },
  {
   "cell_type": "code",
   "execution_count": 88,
   "metadata": {},
   "outputs": [
    {
     "name": "stdout",
     "output_type": "stream",
     "text": [
      "[[7669  154]\n",
      " [ 400 9157]]\n"
     ]
    }
   ],
   "source": [
    "print(confusion_matrix(y_test,predictions))"
   ]
  },
  {
   "cell_type": "code",
   "execution_count": 89,
   "metadata": {},
   "outputs": [
    {
     "name": "stdout",
     "output_type": "stream",
     "text": [
      "             precision    recall  f1-score   support\n",
      "\n",
      "          0       0.95      0.98      0.97      7823\n",
      "          1       0.98      0.96      0.97      9557\n",
      "\n",
      "avg / total       0.97      0.97      0.97     17380\n",
      "\n"
     ]
    }
   ],
   "source": [
    "print(classification_report(y_test,predictions))"
   ]
  },
  {
   "cell_type": "code",
   "execution_count": 90,
   "metadata": {},
   "outputs": [],
   "source": [
    "## mkhaim bbinim kodum k value baramun behtare bayad for loop bnevisim"
   ]
  },
  {
   "cell_type": "code",
   "execution_count": 98,
   "metadata": {},
   "outputs": [],
   "source": [
    "error_rate = []\n",
    "for i in np.arange(1,40,2):\n",
    "    \n",
    "    knn_ctrl = KNeighborsClassifier(n_neighbors=i)\n",
    "    knn_ctrl.fit(X_train, y_train)\n",
    "    pred_x = knn_ctrl.predict(X_test)\n",
    "    error_rate.append(np.mean(pred_x != y_test))\n",
    "    "
   ]
  },
  {
   "cell_type": "code",
   "execution_count": 99,
   "metadata": {},
   "outputs": [
    {
     "data": {
      "text/plain": [
       "Text(0,0.5,'Error rate')"
      ]
     },
     "execution_count": 99,
     "metadata": {},
     "output_type": "execute_result"
    },
    {
     "data": {
      "image/png": "[encoded data removed]",
      "text/plain": [
       "<Figure size 1080x360 with 1 Axes>"
      ]
     },
     "metadata": {
      "needs_background": "light"
     },
     "output_type": "display_data"
    }
   ],
   "source": [
    "plt.figure(figsize=(15,5))\n",
    "\n",
    "plt.plot(np.arange(1,40,2), error_rate, color = 'Blue', linestyle = '--', marker = 'o', markerfacecolor='red')\n",
    "plt.title('Error Rate vs. K Value')\n",
    "plt.xlabel(\"K\")\n",
    "plt.ylabel('Error rate')"
   ]
  },
  {
   "cell_type": "code",
   "execution_count": null,
   "metadata": {},
   "outputs": [],
   "source": []
  },
  {
   "cell_type": "code",
   "execution_count": 100,
   "metadata": {},
   "outputs": [],
   "source": [
    "koon= KNeighborsClassifier(35)   #K ro mizarim ru 35 da natije mibinim k daqiqan kh bad mshe natije"
   ]
  },
  {
   "cell_type": "code",
   "execution_count": 101,
   "metadata": {},
   "outputs": [
    {
     "data": {
      "text/plain": [
       "KNeighborsClassifier(algorithm='auto', leaf_size=30, metric='minkowski',\n",
       "           metric_params=None, n_jobs=1, n_neighbors=35, p=2,\n",
       "           weights='uniform')"
      ]
     },
     "execution_count": 101,
     "metadata": {},
     "output_type": "execute_result"
    }
   ],
   "source": [
    "koon.fit(X_train,y_train)"
   ]
  },
  {
   "cell_type": "code",
   "execution_count": 104,
   "metadata": {},
   "outputs": [
    {
     "data": {
      "text/plain": [
       "array([0, 0, 1, ..., 0, 1, 1], dtype=int64)"
      ]
     },
     "execution_count": 104,
     "metadata": {},
     "output_type": "execute_result"
    }
   ],
   "source": [
    "predictions=koon.predict(X_test)\n",
    "predictions"
   ]
  },
  {
   "cell_type": "code",
   "execution_count": 105,
   "metadata": {},
   "outputs": [],
   "source": [
    "from sklearn.metrics import confusion_matrix,classification_report"
   ]
  },
  {
   "cell_type": "code",
   "execution_count": 109,
   "metadata": {},
   "outputs": [
    {
     "name": "stdout",
     "output_type": "stream",
     "text": [
      "[[7545  278]\n",
      " [ 991 8566]]\n"
     ]
    }
   ],
   "source": [
    "print(confusion_matrix(y_test,predictions))"
   ]
  },
  {
   "cell_type": "code",
   "execution_count": 108,
   "metadata": {},
   "outputs": [
    {
     "name": "stdout",
     "output_type": "stream",
     "text": [
      "             precision    recall  f1-score   support\n",
      "\n",
      "          0       0.88      0.96      0.92      7823\n",
      "          1       0.97      0.90      0.93      9557\n",
      "\n",
      "avg / total       0.93      0.93      0.93     17380\n",
      "\n"
     ]
    }
   ],
   "source": [
    "print(classification_report(y_test,predictions))"
   ]
  },
  {
   "cell_type": "code",
   "execution_count": null,
   "metadata": {},
   "outputs": [],
   "source": []
  }
 ],
 "metadata": {
  "kernelspec": {
   "display_name": "Python 3",
   "language": "python",
   "name": "python3"
  },
  "language_info": {
   "codemirror_mode": {
    "name": "ipython",
    "version": 3
   },
   "file_extension": ".py",
   "mimetype": "text/x-python",
   "name": "python",
   "nbconvert_exporter": "python",
   "pygments_lexer": "ipython3",
   "version": "3.7.0"
  }
 },
 "nbformat": 4,
 "nbformat_minor": 2
}
